{
 "cells": [
  {
   "cell_type": "code",
   "execution_count": 3,
   "id": "540758c3",
   "metadata": {},
   "outputs": [],
   "source": [
    "import pandas as pd\n",
    "df = pd.read_csv(r'/Users/durazno/Downloads/shipping_data.csv')"
   ]
  },
  {
   "cell_type": "markdown",
   "id": "1f7e3291",
   "metadata": {},
   "source": [
    "I have imported my csv file and now I want to check the first couple rows \n",
    "to see what kind of data I am working with."
   ]
  },
  {
   "cell_type": "code",
   "execution_count": 7,
   "id": "9221756f",
   "metadata": {
    "scrolled": true
   },
   "outputs": [
    {
     "data": {
      "text/html": [
       "<div>\n",
       "<style scoped>\n",
       "    .dataframe tbody tr th:only-of-type {\n",
       "        vertical-align: middle;\n",
       "    }\n",
       "\n",
       "    .dataframe tbody tr th {\n",
       "        vertical-align: top;\n",
       "    }\n",
       "\n",
       "    .dataframe thead th {\n",
       "        text-align: right;\n",
       "    }\n",
       "</style>\n",
       "<table border=\"1\" class=\"dataframe\">\n",
       "  <thead>\n",
       "    <tr style=\"text-align: right;\">\n",
       "      <th></th>\n",
       "      <th>name</th>\n",
       "      <th>price ($)</th>\n",
       "      <th>weight (kg)</th>\n",
       "      <th>length (m)</th>\n",
       "      <th>width (m)</th>\n",
       "      <th>height (m)</th>\n",
       "      <th>shipment date</th>\n",
       "      <th>destination port</th>\n",
       "    </tr>\n",
       "  </thead>\n",
       "  <tbody>\n",
       "    <tr>\n",
       "      <th>0</th>\n",
       "      <td>Camera Bag</td>\n",
       "      <td>37.66</td>\n",
       "      <td>1.10</td>\n",
       "      <td>0.40</td>\n",
       "      <td>0.39</td>\n",
       "      <td>0.26</td>\n",
       "      <td>2023-03-19</td>\n",
       "      <td>Port of Singapore (Singapore)</td>\n",
       "    </tr>\n",
       "    <tr>\n",
       "      <th>1</th>\n",
       "      <td>Portable Bluetooth Keyboard</td>\n",
       "      <td>144.65</td>\n",
       "      <td>0.39</td>\n",
       "      <td>0.11</td>\n",
       "      <td>0.06</td>\n",
       "      <td>0.03</td>\n",
       "      <td>2023-03-21</td>\n",
       "      <td>Port of Busan (South Korea)</td>\n",
       "    </tr>\n",
       "    <tr>\n",
       "      <th>2</th>\n",
       "      <td>Large Flat Rate Box</td>\n",
       "      <td>38.57</td>\n",
       "      <td>0.97</td>\n",
       "      <td>0.79</td>\n",
       "      <td>0.55</td>\n",
       "      <td>0.35</td>\n",
       "      <td>2023-03-25</td>\n",
       "      <td>Port of Tianjin (China)</td>\n",
       "    </tr>\n",
       "    <tr>\n",
       "      <th>3</th>\n",
       "      <td>Ceramic Tiles</td>\n",
       "      <td>10.34</td>\n",
       "      <td>6.22</td>\n",
       "      <td>0.36</td>\n",
       "      <td>0.37</td>\n",
       "      <td>0.02</td>\n",
       "      <td>2023-03-15</td>\n",
       "      <td>Port of Shanghai (China)</td>\n",
       "    </tr>\n",
       "    <tr>\n",
       "      <th>4</th>\n",
       "      <td>Garden Hose</td>\n",
       "      <td>21.63</td>\n",
       "      <td>1.18</td>\n",
       "      <td>17.77</td>\n",
       "      <td>0.27</td>\n",
       "      <td>0.13</td>\n",
       "      <td>2023-03-25</td>\n",
       "      <td>Port of Tianjin (China)</td>\n",
       "    </tr>\n",
       "  </tbody>\n",
       "</table>\n",
       "</div>"
      ],
      "text/plain": [
       "                          name  price ($)  weight (kg)  length (m)  width (m)  \\\n",
       "0                   Camera Bag      37.66         1.10        0.40       0.39   \n",
       "1  Portable Bluetooth Keyboard     144.65         0.39        0.11       0.06   \n",
       "2          Large Flat Rate Box      38.57         0.97        0.79       0.55   \n",
       "3                Ceramic Tiles      10.34         6.22        0.36       0.37   \n",
       "4                  Garden Hose      21.63         1.18       17.77       0.27   \n",
       "\n",
       "   height (m) shipment date               destination port  \n",
       "0        0.26    2023-03-19  Port of Singapore (Singapore)  \n",
       "1        0.03    2023-03-21    Port of Busan (South Korea)  \n",
       "2        0.35    2023-03-25        Port of Tianjin (China)  \n",
       "3        0.02    2023-03-15       Port of Shanghai (China)  \n",
       "4        0.13    2023-03-25        Port of Tianjin (China)  "
      ]
     },
     "execution_count": 7,
     "metadata": {},
     "output_type": "execute_result"
    }
   ],
   "source": [
    "df.head(5)"
   ]
  },
  {
   "cell_type": "markdown",
   "id": "c8b04758",
   "metadata": {},
   "source": [
    "Now I want to check the types of each column."
   ]
  },
  {
   "cell_type": "code",
   "execution_count": 10,
   "id": "15961489",
   "metadata": {},
   "outputs": [
    {
     "data": {
      "text/plain": [
       "name                 object\n",
       "price ($)           float64\n",
       "weight (kg)         float64\n",
       "length (m)          float64\n",
       "width (m)           float64\n",
       "height (m)          float64\n",
       "shipment date        object\n",
       "destination port     object\n",
       "dtype: object"
      ]
     },
     "execution_count": 10,
     "metadata": {},
     "output_type": "execute_result"
    }
   ],
   "source": [
    "df.dtypes"
   ]
  },
  {
   "cell_type": "markdown",
   "id": "45560511",
   "metadata": {},
   "source": [
    "I will make the shipment date into datetime format."
   ]
  },
  {
   "cell_type": "code",
   "execution_count": 11,
   "id": "bdaf4012",
   "metadata": {},
   "outputs": [],
   "source": [
    "df['shipment date'] = pd.to_datetime(df['shipment date'], format = '%Y-%m-%d')"
   ]
  },
  {
   "cell_type": "markdown",
   "id": "49879a00",
   "metadata": {},
   "source": [
    "Now I will check if any of the columns have blank, missing, or null values."
   ]
  },
  {
   "cell_type": "code",
   "execution_count": 13,
   "id": "081d96b2",
   "metadata": {},
   "outputs": [
    {
     "data": {
      "text/plain": [
       "26"
      ]
     },
     "execution_count": 13,
     "metadata": {},
     "output_type": "execute_result"
    }
   ],
   "source": [
    "df['destination port'].isnull().sum()"
   ]
  },
  {
   "cell_type": "code",
   "execution_count": 14,
   "id": "ef5903db",
   "metadata": {},
   "outputs": [
    {
     "data": {
      "text/plain": [
       "0"
      ]
     },
     "execution_count": 14,
     "metadata": {},
     "output_type": "execute_result"
    }
   ],
   "source": [
    "df['price ($)'].isnull().sum()"
   ]
  },
  {
   "cell_type": "code",
   "execution_count": 15,
   "id": "dd1bdf60",
   "metadata": {},
   "outputs": [
    {
     "data": {
      "text/plain": [
       "13"
      ]
     },
     "execution_count": 15,
     "metadata": {},
     "output_type": "execute_result"
    }
   ],
   "source": [
    "df['weight (kg)'].isnull().sum()"
   ]
  },
  {
   "cell_type": "code",
   "execution_count": 16,
   "id": "8a70310f",
   "metadata": {},
   "outputs": [
    {
     "data": {
      "text/plain": [
       "184"
      ]
     },
     "execution_count": 16,
     "metadata": {},
     "output_type": "execute_result"
    }
   ],
   "source": [
    "df['length (m)'].isnull().sum()"
   ]
  },
  {
   "cell_type": "code",
   "execution_count": 17,
   "id": "1b1915da",
   "metadata": {},
   "outputs": [
    {
     "data": {
      "text/plain": [
       "0"
      ]
     },
     "execution_count": 17,
     "metadata": {},
     "output_type": "execute_result"
    }
   ],
   "source": [
    "df['width (m)'].isnull().sum()"
   ]
  },
  {
   "cell_type": "code",
   "execution_count": 18,
   "id": "16371952",
   "metadata": {},
   "outputs": [
    {
     "data": {
      "text/plain": [
       "2638"
      ]
     },
     "execution_count": 18,
     "metadata": {},
     "output_type": "execute_result"
    }
   ],
   "source": [
    "df['shipment date'].isnull().sum()"
   ]
  },
  {
   "cell_type": "markdown",
   "id": "455f4ed9",
   "metadata": {},
   "source": [
    "There are null values. I tried to cross match any missing records with other given data but found no matches.\n",
    "e.g.: For a missing weight record for a bed I looked for matching lengths and widths of other beds to see if there were any correlations. There weren't any."
   ]
  },
  {
   "cell_type": "code",
   "execution_count": 27,
   "id": "db6d2a82",
   "metadata": {},
   "outputs": [
    {
     "data": {
      "text/html": [
       "<div>\n",
       "<style scoped>\n",
       "    .dataframe tbody tr th:only-of-type {\n",
       "        vertical-align: middle;\n",
       "    }\n",
       "\n",
       "    .dataframe tbody tr th {\n",
       "        vertical-align: top;\n",
       "    }\n",
       "\n",
       "    .dataframe thead th {\n",
       "        text-align: right;\n",
       "    }\n",
       "</style>\n",
       "<table border=\"1\" class=\"dataframe\">\n",
       "  <thead>\n",
       "    <tr style=\"text-align: right;\">\n",
       "      <th></th>\n",
       "      <th>name</th>\n",
       "      <th>price ($)</th>\n",
       "      <th>weight (kg)</th>\n",
       "      <th>length (m)</th>\n",
       "      <th>width (m)</th>\n",
       "      <th>height (m)</th>\n",
       "      <th>shipment date</th>\n",
       "      <th>destination port</th>\n",
       "    </tr>\n",
       "  </thead>\n",
       "  <tbody>\n",
       "    <tr>\n",
       "      <th>6084</th>\n",
       "      <td>Portable Charger</td>\n",
       "      <td>38.84</td>\n",
       "      <td>NaN</td>\n",
       "      <td>0.13</td>\n",
       "      <td>0.07</td>\n",
       "      <td>0.03</td>\n",
       "      <td>2023-03-17</td>\n",
       "      <td>Port of Tianjin (China)</td>\n",
       "    </tr>\n",
       "    <tr>\n",
       "      <th>27873</th>\n",
       "      <td>Microphone</td>\n",
       "      <td>243.44</td>\n",
       "      <td>NaN</td>\n",
       "      <td>0.06</td>\n",
       "      <td>0.06</td>\n",
       "      <td>0.20</td>\n",
       "      <td>2023-03-27</td>\n",
       "      <td>Port of Tianjin (China)</td>\n",
       "    </tr>\n",
       "    <tr>\n",
       "      <th>62712</th>\n",
       "      <td>Pallete of Shoes</td>\n",
       "      <td>445.97</td>\n",
       "      <td>NaN</td>\n",
       "      <td>1.00</td>\n",
       "      <td>0.95</td>\n",
       "      <td>1.24</td>\n",
       "      <td>2023-03-16</td>\n",
       "      <td>Port of Busan (South Korea)</td>\n",
       "    </tr>\n",
       "    <tr>\n",
       "      <th>106435</th>\n",
       "      <td>Bed</td>\n",
       "      <td>451.19</td>\n",
       "      <td>NaN</td>\n",
       "      <td>2.23</td>\n",
       "      <td>1.88</td>\n",
       "      <td>1.03</td>\n",
       "      <td>2023-03-13</td>\n",
       "      <td>Port of Tokyo (Japan)</td>\n",
       "    </tr>\n",
       "    <tr>\n",
       "      <th>114334</th>\n",
       "      <td>Pallete of Tea</td>\n",
       "      <td>336.94</td>\n",
       "      <td>NaN</td>\n",
       "      <td>1.13</td>\n",
       "      <td>0.95</td>\n",
       "      <td>1.26</td>\n",
       "      <td>2023-03-26</td>\n",
       "      <td>Port of Tokyo (Japan)</td>\n",
       "    </tr>\n",
       "    <tr>\n",
       "      <th>134316</th>\n",
       "      <td>Computer</td>\n",
       "      <td>758.39</td>\n",
       "      <td>NaN</td>\n",
       "      <td>0.45</td>\n",
       "      <td>0.49</td>\n",
       "      <td>0.15</td>\n",
       "      <td>2023-03-12</td>\n",
       "      <td>Port of Tianjin (China)</td>\n",
       "    </tr>\n",
       "    <tr>\n",
       "      <th>143705</th>\n",
       "      <td>Stone Slabs</td>\n",
       "      <td>115.67</td>\n",
       "      <td>NaN</td>\n",
       "      <td>0.76</td>\n",
       "      <td>0.67</td>\n",
       "      <td>0.07</td>\n",
       "      <td>2023-03-13</td>\n",
       "      <td>Port of Singapore (Singapore)</td>\n",
       "    </tr>\n",
       "    <tr>\n",
       "      <th>146637</th>\n",
       "      <td>Dining Table</td>\n",
       "      <td>210.75</td>\n",
       "      <td>NaN</td>\n",
       "      <td>1.50</td>\n",
       "      <td>1.49</td>\n",
       "      <td>0.76</td>\n",
       "      <td>2023-03-19</td>\n",
       "      <td>Port of Tianjin (China)</td>\n",
       "    </tr>\n",
       "    <tr>\n",
       "      <th>162937</th>\n",
       "      <td>Soap Dispenser</td>\n",
       "      <td>13.61</td>\n",
       "      <td>NaN</td>\n",
       "      <td>0.13</td>\n",
       "      <td>0.17</td>\n",
       "      <td>0.28</td>\n",
       "      <td>2023-03-12</td>\n",
       "      <td>Port of Singapore (Singapore)</td>\n",
       "    </tr>\n",
       "    <tr>\n",
       "      <th>174575</th>\n",
       "      <td>Hoe</td>\n",
       "      <td>26.82</td>\n",
       "      <td>NaN</td>\n",
       "      <td>0.93</td>\n",
       "      <td>0.41</td>\n",
       "      <td>0.41</td>\n",
       "      <td>2023-03-26</td>\n",
       "      <td>Port of Busan (South Korea)</td>\n",
       "    </tr>\n",
       "    <tr>\n",
       "      <th>229151</th>\n",
       "      <td>Hair Dryer</td>\n",
       "      <td>31.90</td>\n",
       "      <td>NaN</td>\n",
       "      <td>0.21</td>\n",
       "      <td>0.10</td>\n",
       "      <td>0.16</td>\n",
       "      <td>2023-03-22</td>\n",
       "      <td>Port of Busan (South Korea)</td>\n",
       "    </tr>\n",
       "    <tr>\n",
       "      <th>230190</th>\n",
       "      <td>Portable Charger</td>\n",
       "      <td>46.96</td>\n",
       "      <td>NaN</td>\n",
       "      <td>0.13</td>\n",
       "      <td>0.09</td>\n",
       "      <td>0.04</td>\n",
       "      <td>2023-03-28</td>\n",
       "      <td>Port of Busan (South Korea)</td>\n",
       "    </tr>\n",
       "    <tr>\n",
       "      <th>254689</th>\n",
       "      <td>Big Bag with Coal</td>\n",
       "      <td>146.59</td>\n",
       "      <td>NaN</td>\n",
       "      <td>1.79</td>\n",
       "      <td>0.81</td>\n",
       "      <td>0.19</td>\n",
       "      <td>2023-03-28</td>\n",
       "      <td>Port of Shanghai (China)</td>\n",
       "    </tr>\n",
       "  </tbody>\n",
       "</table>\n",
       "</div>"
      ],
      "text/plain": [
       "                     name  price ($)  weight (kg)  length (m)  width (m)  \\\n",
       "6084     Portable Charger      38.84          NaN        0.13       0.07   \n",
       "27873          Microphone     243.44          NaN        0.06       0.06   \n",
       "62712    Pallete of Shoes     445.97          NaN        1.00       0.95   \n",
       "106435                Bed     451.19          NaN        2.23       1.88   \n",
       "114334     Pallete of Tea     336.94          NaN        1.13       0.95   \n",
       "134316           Computer     758.39          NaN        0.45       0.49   \n",
       "143705        Stone Slabs     115.67          NaN        0.76       0.67   \n",
       "146637       Dining Table     210.75          NaN        1.50       1.49   \n",
       "162937     Soap Dispenser      13.61          NaN        0.13       0.17   \n",
       "174575                Hoe      26.82          NaN        0.93       0.41   \n",
       "229151         Hair Dryer      31.90          NaN        0.21       0.10   \n",
       "230190   Portable Charger      46.96          NaN        0.13       0.09   \n",
       "254689  Big Bag with Coal     146.59          NaN        1.79       0.81   \n",
       "\n",
       "        height (m) shipment date               destination port  \n",
       "6084          0.03    2023-03-17        Port of Tianjin (China)  \n",
       "27873         0.20    2023-03-27        Port of Tianjin (China)  \n",
       "62712         1.24    2023-03-16    Port of Busan (South Korea)  \n",
       "106435        1.03    2023-03-13          Port of Tokyo (Japan)  \n",
       "114334        1.26    2023-03-26          Port of Tokyo (Japan)  \n",
       "134316        0.15    2023-03-12        Port of Tianjin (China)  \n",
       "143705        0.07    2023-03-13  Port of Singapore (Singapore)  \n",
       "146637        0.76    2023-03-19        Port of Tianjin (China)  \n",
       "162937        0.28    2023-03-12  Port of Singapore (Singapore)  \n",
       "174575        0.41    2023-03-26    Port of Busan (South Korea)  \n",
       "229151        0.16    2023-03-22    Port of Busan (South Korea)  \n",
       "230190        0.04    2023-03-28    Port of Busan (South Korea)  \n",
       "254689        0.19    2023-03-28       Port of Shanghai (China)  "
      ]
     },
     "execution_count": 27,
     "metadata": {},
     "output_type": "execute_result"
    }
   ],
   "source": [
    "df.loc[df['weight (kg)'].isnull() ==  True]"
   ]
  },
  {
   "cell_type": "code",
   "execution_count": 32,
   "id": "6a830131",
   "metadata": {},
   "outputs": [
    {
     "data": {
      "text/html": [
       "<div>\n",
       "<style scoped>\n",
       "    .dataframe tbody tr th:only-of-type {\n",
       "        vertical-align: middle;\n",
       "    }\n",
       "\n",
       "    .dataframe tbody tr th {\n",
       "        vertical-align: top;\n",
       "    }\n",
       "\n",
       "    .dataframe thead th {\n",
       "        text-align: right;\n",
       "    }\n",
       "</style>\n",
       "<table border=\"1\" class=\"dataframe\">\n",
       "  <thead>\n",
       "    <tr style=\"text-align: right;\">\n",
       "      <th></th>\n",
       "      <th>name</th>\n",
       "      <th>price ($)</th>\n",
       "      <th>weight (kg)</th>\n",
       "      <th>length (m)</th>\n",
       "      <th>width (m)</th>\n",
       "      <th>height (m)</th>\n",
       "      <th>shipment date</th>\n",
       "      <th>destination port</th>\n",
       "    </tr>\n",
       "  </thead>\n",
       "  <tbody>\n",
       "    <tr>\n",
       "      <th>106435</th>\n",
       "      <td>Bed</td>\n",
       "      <td>451.19</td>\n",
       "      <td>NaN</td>\n",
       "      <td>2.23</td>\n",
       "      <td>1.88</td>\n",
       "      <td>1.03</td>\n",
       "      <td>2023-03-13</td>\n",
       "      <td>Port of Tokyo (Japan)</td>\n",
       "    </tr>\n",
       "    <tr>\n",
       "      <th>117212</th>\n",
       "      <td>Bed</td>\n",
       "      <td>305.18</td>\n",
       "      <td>65.06</td>\n",
       "      <td>2.23</td>\n",
       "      <td>1.88</td>\n",
       "      <td>1.49</td>\n",
       "      <td>2023-03-19</td>\n",
       "      <td>Port of Busan (South Korea)</td>\n",
       "    </tr>\n",
       "    <tr>\n",
       "      <th>129618</th>\n",
       "      <td>Bed</td>\n",
       "      <td>247.63</td>\n",
       "      <td>81.99</td>\n",
       "      <td>2.23</td>\n",
       "      <td>1.88</td>\n",
       "      <td>1.42</td>\n",
       "      <td>2023-03-16</td>\n",
       "      <td>Port of Busan (South Korea)</td>\n",
       "    </tr>\n",
       "  </tbody>\n",
       "</table>\n",
       "</div>"
      ],
      "text/plain": [
       "       name  price ($)  weight (kg)  length (m)  width (m)  height (m)  \\\n",
       "106435  Bed     451.19          NaN        2.23       1.88        1.03   \n",
       "117212  Bed     305.18        65.06        2.23       1.88        1.49   \n",
       "129618  Bed     247.63        81.99        2.23       1.88        1.42   \n",
       "\n",
       "       shipment date             destination port  \n",
       "106435    2023-03-13        Port of Tokyo (Japan)  \n",
       "117212    2023-03-19  Port of Busan (South Korea)  \n",
       "129618    2023-03-16  Port of Busan (South Korea)  "
      ]
     },
     "execution_count": 32,
     "metadata": {},
     "output_type": "execute_result"
    }
   ],
   "source": [
    "df.loc[(df['name']=='Bed' )& (df['length (m)']==2.23) & (df['width (m)']==1.88)]"
   ]
  },
  {
   "cell_type": "markdown",
   "id": "925cf3a2",
   "metadata": {},
   "source": [
    "The heights do not match with any of the records, therefore I cannot assume the weight of another bed."
   ]
  }
 ],
 "metadata": {
  "kernelspec": {
   "display_name": "Python 3 (ipykernel)",
   "language": "python",
   "name": "python3"
  },
  "language_info": {
   "codemirror_mode": {
    "name": "ipython",
    "version": 3
   },
   "file_extension": ".py",
   "mimetype": "text/x-python",
   "name": "python",
   "nbconvert_exporter": "python",
   "pygments_lexer": "ipython3",
   "version": "3.9.12"
  }
 },
 "nbformat": 4,
 "nbformat_minor": 5
}
